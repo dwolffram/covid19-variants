{
 "cells": [
  {
   "cell_type": "code",
   "execution_count": 1,
   "id": "architectural-priority",
   "metadata": {},
   "outputs": [],
   "source": [
    "import pandas as pd\n",
    "from pathlib import Path"
   ]
  },
  {
   "cell_type": "code",
   "execution_count": 12,
   "id": "completed-graphics",
   "metadata": {},
   "outputs": [],
   "source": [
    "path = Path('../data/raw')\n",
    "\n",
    "files = [f.name for f in path.iterdir() if f.name.endswith('.csv')]\n",
    "\n",
    "file_df = pd.DataFrame({'file': files})\n",
    "\n",
    "file_df['date'] = file_df.file.str[:10]\n",
    "\n",
    "file_df['previous_date'] = file_df.date.apply(lambda f: str((pd.to_datetime(f) - pd.Timedelta('7 days')).date()))"
   ]
  },
  {
   "cell_type": "code",
   "execution_count": 15,
   "id": "exterior-glenn",
   "metadata": {},
   "outputs": [
    {
     "data": {
      "text/html": [
       "<div>\n",
       "<style scoped>\n",
       "    .dataframe tbody tr th:only-of-type {\n",
       "        vertical-align: middle;\n",
       "    }\n",
       "\n",
       "    .dataframe tbody tr th {\n",
       "        vertical-align: top;\n",
       "    }\n",
       "\n",
       "    .dataframe thead th {\n",
       "        text-align: right;\n",
       "    }\n",
       "</style>\n",
       "<table border=\"1\" class=\"dataframe\">\n",
       "  <thead>\n",
       "    <tr style=\"text-align: right;\">\n",
       "      <th></th>\n",
       "      <th>file</th>\n",
       "      <th>date</th>\n",
       "      <th>previous_date</th>\n",
       "    </tr>\n",
       "  </thead>\n",
       "  <tbody>\n",
       "    <tr>\n",
       "      <th>0</th>\n",
       "      <td>2021-08-05_variants_of_concern_sample.csv</td>\n",
       "      <td>2021-08-05</td>\n",
       "      <td>2021-07-29</td>\n",
       "    </tr>\n",
       "    <tr>\n",
       "      <th>1</th>\n",
       "      <td>2021-08-12_variants_of_concern_sample.csv</td>\n",
       "      <td>2021-08-12</td>\n",
       "      <td>2021-08-05</td>\n",
       "    </tr>\n",
       "    <tr>\n",
       "      <th>2</th>\n",
       "      <td>2021-08-19_variants_of_concern_sample.csv</td>\n",
       "      <td>2021-08-19</td>\n",
       "      <td>2021-08-12</td>\n",
       "    </tr>\n",
       "    <tr>\n",
       "      <th>3</th>\n",
       "      <td>2021-08-26_variants_of_concern_sample.csv</td>\n",
       "      <td>2021-08-26</td>\n",
       "      <td>2021-08-19</td>\n",
       "    </tr>\n",
       "    <tr>\n",
       "      <th>4</th>\n",
       "      <td>2021-09-02_variants_of_concern_sample.csv</td>\n",
       "      <td>2021-09-02</td>\n",
       "      <td>2021-08-26</td>\n",
       "    </tr>\n",
       "    <tr>\n",
       "      <th>5</th>\n",
       "      <td>2021-09-09_variants_of_concern_sample.csv</td>\n",
       "      <td>2021-09-09</td>\n",
       "      <td>2021-09-02</td>\n",
       "    </tr>\n",
       "  </tbody>\n",
       "</table>\n",
       "</div>"
      ],
      "text/plain": [
       "                                        file        date previous_date\n",
       "0  2021-08-05_variants_of_concern_sample.csv  2021-08-05    2021-07-29\n",
       "1  2021-08-12_variants_of_concern_sample.csv  2021-08-12    2021-08-05\n",
       "2  2021-08-19_variants_of_concern_sample.csv  2021-08-19    2021-08-12\n",
       "3  2021-08-26_variants_of_concern_sample.csv  2021-08-26    2021-08-19\n",
       "4  2021-09-02_variants_of_concern_sample.csv  2021-09-02    2021-08-26\n",
       "5  2021-09-09_variants_of_concern_sample.csv  2021-09-09    2021-09-02"
      ]
     },
     "execution_count": 15,
     "metadata": {},
     "output_type": "execute_result"
    }
   ],
   "source": [
    "file_df"
   ]
  },
  {
   "cell_type": "code",
   "execution_count": 17,
   "id": "secure-rings",
   "metadata": {},
   "outputs": [],
   "source": [
    "for i, row in file_df.iterrows():\n",
    "    df = pd.read_csv(path/row.file, sep=';')\n",
    "    \n",
    "    df_previous = pd.read_csv(f'../data/archive/{row.previous_date}_variants_of_concern_sample.csv')\n",
    "\n",
    "    df_previous = df_previous[[c for c in df_previous.columns if ('_count' not in c and 'total' not in c)]]\n",
    "    \n",
    "    df_complete = df_previous[df_previous.week < df.week.min()].append(df)\n",
    "    df_complete.to_csv(f'../data/archive/{row.date}_variants_of_concern_sample.csv', index=False)"
   ]
  }
 ],
 "metadata": {
  "kernelspec": {
   "display_name": "Python 3",
   "language": "python",
   "name": "python3"
  },
  "language_info": {
   "codemirror_mode": {
    "name": "ipython",
    "version": 3
   },
   "file_extension": ".py",
   "mimetype": "text/x-python",
   "name": "python",
   "nbconvert_exporter": "python",
   "pygments_lexer": "ipython3",
   "version": "3.8.8"
  }
 },
 "nbformat": 4,
 "nbformat_minor": 5
}
