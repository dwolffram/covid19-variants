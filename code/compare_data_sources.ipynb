{
 "cells": [
  {
   "cell_type": "code",
   "execution_count": 53,
   "id": "demographic-demonstration",
   "metadata": {},
   "outputs": [],
   "source": [
    "import pandas as pd"
   ]
  },
  {
   "cell_type": "code",
   "execution_count": 105,
   "id": "compliant-vertex",
   "metadata": {},
   "outputs": [],
   "source": [
    "df1 = pd.read_csv('https://raw.githubusercontent.com/epiforecasts/evaluate-delta-for-forecasting/main/data/observations/rki.csv')\n",
    "df2 = pd.read_csv('https://raw.githubusercontent.com/epiforecasts/evaluate-delta-for-forecasting/main/data/observations/covariants.csv')"
   ]
  },
  {
   "cell_type": "code",
   "execution_count": 95,
   "id": "consolidated-difficulty",
   "metadata": {},
   "outputs": [],
   "source": [
    "df2 = df2[df2.location_name == 'Germany']"
   ]
  },
  {
   "cell_type": "code",
   "execution_count": 96,
   "id": "charitable-palmer",
   "metadata": {},
   "outputs": [],
   "source": [
    "df1.dropna(inplace = True)\n",
    "df2.dropna(inplace = True)"
   ]
  },
  {
   "cell_type": "code",
   "execution_count": 97,
   "id": "reduced-tracker",
   "metadata": {},
   "outputs": [],
   "source": [
    "df1 = df1[['date', 'seq_available', 'share_voc']]\n",
    "df2 = df2[['date', 'seq_available', 'share_voc']]"
   ]
  },
  {
   "cell_type": "code",
   "execution_count": 98,
   "id": "downtown-blocking",
   "metadata": {},
   "outputs": [],
   "source": [
    "# df2 = df2[df2.date.isin(df1.date.unique())]"
   ]
  },
  {
   "cell_type": "code",
   "execution_count": 99,
   "id": "aware-express",
   "metadata": {},
   "outputs": [],
   "source": [
    "df1.date = pd.to_datetime(df1.date)\n",
    "df2.date = pd.to_datetime(df2.date)\n",
    "\n",
    "df1.seq_available = pd.to_datetime(df1.seq_available)\n",
    "df2.seq_available = pd.to_datetime(df2.seq_available)"
   ]
  },
  {
   "cell_type": "code",
   "execution_count": 100,
   "id": "opposed-singles",
   "metadata": {},
   "outputs": [],
   "source": [
    "df1['lag'] = df1.seq_available - df1.date"
   ]
  },
  {
   "cell_type": "code",
   "execution_count": 101,
   "id": "linear-maldives",
   "metadata": {},
   "outputs": [],
   "source": [
    "lags = df1.groupby('date', as_index = False).lag.min()"
   ]
  },
  {
   "cell_type": "code",
   "execution_count": 102,
   "id": "involved-feeling",
   "metadata": {},
   "outputs": [],
   "source": [
    "df2['lag'] = df2.seq_available - df2.date"
   ]
  },
  {
   "cell_type": "code",
   "execution_count": 103,
   "id": "handed-concentration",
   "metadata": {},
   "outputs": [],
   "source": [
    "lags2 = df2.groupby('date', as_index = False).lag.min()"
   ]
  },
  {
   "cell_type": "code",
   "execution_count": 104,
   "id": "political-papua",
   "metadata": {},
   "outputs": [
    {
     "data": {
      "text/html": [
       "<div>\n",
       "<style scoped>\n",
       "    .dataframe tbody tr th:only-of-type {\n",
       "        vertical-align: middle;\n",
       "    }\n",
       "\n",
       "    .dataframe tbody tr th {\n",
       "        vertical-align: top;\n",
       "    }\n",
       "\n",
       "    .dataframe thead th {\n",
       "        text-align: right;\n",
       "    }\n",
       "</style>\n",
       "<table border=\"1\" class=\"dataframe\">\n",
       "  <thead>\n",
       "    <tr style=\"text-align: right;\">\n",
       "      <th></th>\n",
       "      <th>date</th>\n",
       "      <th>lag_rki</th>\n",
       "      <th>lag_cov</th>\n",
       "    </tr>\n",
       "  </thead>\n",
       "  <tbody>\n",
       "    <tr>\n",
       "      <th>0</th>\n",
       "      <td>2021-04-17</td>\n",
       "      <td>25 days</td>\n",
       "      <td>53 days</td>\n",
       "    </tr>\n",
       "    <tr>\n",
       "      <th>1</th>\n",
       "      <td>2021-04-24</td>\n",
       "      <td>18 days</td>\n",
       "      <td>46 days</td>\n",
       "    </tr>\n",
       "    <tr>\n",
       "      <th>2</th>\n",
       "      <td>2021-05-01</td>\n",
       "      <td>11 days</td>\n",
       "      <td>39 days</td>\n",
       "    </tr>\n",
       "    <tr>\n",
       "      <th>3</th>\n",
       "      <td>2021-05-08</td>\n",
       "      <td>11 days</td>\n",
       "      <td>32 days</td>\n",
       "    </tr>\n",
       "    <tr>\n",
       "      <th>4</th>\n",
       "      <td>2021-05-15</td>\n",
       "      <td>11 days</td>\n",
       "      <td>25 days</td>\n",
       "    </tr>\n",
       "    <tr>\n",
       "      <th>5</th>\n",
       "      <td>2021-05-22</td>\n",
       "      <td>11 days</td>\n",
       "      <td>18 days</td>\n",
       "    </tr>\n",
       "    <tr>\n",
       "      <th>6</th>\n",
       "      <td>2021-05-29</td>\n",
       "      <td>11 days</td>\n",
       "      <td>11 days</td>\n",
       "    </tr>\n",
       "    <tr>\n",
       "      <th>7</th>\n",
       "      <td>2021-06-05</td>\n",
       "      <td>11 days</td>\n",
       "      <td>4 days</td>\n",
       "    </tr>\n",
       "    <tr>\n",
       "      <th>8</th>\n",
       "      <td>2021-06-12</td>\n",
       "      <td>11 days</td>\n",
       "      <td>3 days</td>\n",
       "    </tr>\n",
       "    <tr>\n",
       "      <th>9</th>\n",
       "      <td>2021-06-19</td>\n",
       "      <td>11 days</td>\n",
       "      <td>6 days</td>\n",
       "    </tr>\n",
       "    <tr>\n",
       "      <th>10</th>\n",
       "      <td>2021-06-26</td>\n",
       "      <td>11 days</td>\n",
       "      <td>4 days</td>\n",
       "    </tr>\n",
       "    <tr>\n",
       "      <th>11</th>\n",
       "      <td>2021-07-03</td>\n",
       "      <td>11 days</td>\n",
       "      <td>3 days</td>\n",
       "    </tr>\n",
       "    <tr>\n",
       "      <th>12</th>\n",
       "      <td>2021-07-10</td>\n",
       "      <td>12 days</td>\n",
       "      <td>5 days</td>\n",
       "    </tr>\n",
       "    <tr>\n",
       "      <th>13</th>\n",
       "      <td>2021-07-17</td>\n",
       "      <td>12 days</td>\n",
       "      <td>3 days</td>\n",
       "    </tr>\n",
       "  </tbody>\n",
       "</table>\n",
       "</div>"
      ],
      "text/plain": [
       "         date lag_rki lag_cov\n",
       "0  2021-04-17 25 days 53 days\n",
       "1  2021-04-24 18 days 46 days\n",
       "2  2021-05-01 11 days 39 days\n",
       "3  2021-05-08 11 days 32 days\n",
       "4  2021-05-15 11 days 25 days\n",
       "5  2021-05-22 11 days 18 days\n",
       "6  2021-05-29 11 days 11 days\n",
       "7  2021-06-05 11 days  4 days\n",
       "8  2021-06-12 11 days  3 days\n",
       "9  2021-06-19 11 days  6 days\n",
       "10 2021-06-26 11 days  4 days\n",
       "11 2021-07-03 11 days  3 days\n",
       "12 2021-07-10 12 days  5 days\n",
       "13 2021-07-17 12 days  3 days"
      ]
     },
     "execution_count": 104,
     "metadata": {},
     "output_type": "execute_result"
    }
   ],
   "source": [
    "lags.merge(lags2, on = 'date', suffixes = ('_rki', '_cov'))"
   ]
  },
  {
   "cell_type": "code",
   "execution_count": 90,
   "id": "everyday-reynolds",
   "metadata": {},
   "outputs": [],
   "source": [
    "df1.set_index('date', inplace = True)\n",
    "df2.set_index('date', inplace = True)"
   ]
  },
  {
   "cell_type": "code",
   "execution_count": 8,
   "id": "durable-nightmare",
   "metadata": {},
   "outputs": [
    {
     "data": {
      "image/png": "[encoded data removed]",
      "text/plain": [
       "<Figure size 720x432 with 1 Axes>"
      ]
     },
     "metadata": {
      "needs_background": "light"
     },
     "output_type": "display_data"
    }
   ],
   "source": [
    "df1.groupby(['seq_available'])['share_voc'].plot(figsize=[10, 6], title = 'RKI', ylabel = 'share_voc', xlabel = '');"
   ]
  },
  {
   "cell_type": "code",
   "execution_count": 9,
   "id": "curious-continent",
   "metadata": {},
   "outputs": [
    {
     "data": {
      "image/png": "[encoded data removed]",
      "text/plain": [
       "<Figure size 720x432 with 1 Axes>"
      ]
     },
     "metadata": {
      "needs_background": "light"
     },
     "output_type": "display_data"
    }
   ],
   "source": [
    "df2.groupby(['seq_available'])['share_voc'].plot(figsize=[10, 6], title = 'Covariants.org', ylabel = 'share_voc', xlabel = '');"
   ]
  },
  {
   "cell_type": "code",
   "execution_count": 10,
   "id": "appreciated-spotlight",
   "metadata": {},
   "outputs": [
    {
     "data": {
      "text/plain": [
       "array(['2021-05-12', '2021-05-19', '2021-05-26', '2021-06-02',\n",
       "       '2021-06-09', '2021-06-16', '2021-06-23', '2021-06-30',\n",
       "       '2021-07-07', '2021-07-14', '2021-07-22', '2021-07-29'],\n",
       "      dtype=object)"
      ]
     },
     "execution_count": 10,
     "metadata": {},
     "output_type": "execute_result"
    }
   ],
   "source": [
    "# RKI\n",
    "df1.seq_available.unique()"
   ]
  },
  {
   "cell_type": "code",
   "execution_count": 11,
   "id": "sticky-rates",
   "metadata": {},
   "outputs": [
    {
     "data": {
      "text/plain": [
       "array(['2021-06-09', '2021-06-15', '2021-06-16', '2021-06-21',\n",
       "       '2021-06-23', '2021-06-24', '2021-06-25', '2021-06-28',\n",
       "       '2021-06-30', '2021-07-06', '2021-07-09', '2021-07-12',\n",
       "       '2021-07-15', '2021-07-19', '2021-07-20', '2021-07-23',\n",
       "       '2021-07-26', '2021-07-29', '2021-08-04', '2021-08-07',\n",
       "       '2021-08-12', '2021-08-16', '2021-08-19', '2021-08-24',\n",
       "       '2021-08-27', '2021-08-31', '2021-09-02', '2021-09-08',\n",
       "       '2021-09-09', '2021-09-13', '2021-09-16', '2021-09-23',\n",
       "       '2021-09-25', '2021-10-01', '2021-10-06'], dtype=object)"
      ]
     },
     "execution_count": 11,
     "metadata": {},
     "output_type": "execute_result"
    }
   ],
   "source": [
    "# Covariants.org\n",
    "df2.seq_available.unique()"
   ]
  },
  {
   "cell_type": "markdown",
   "id": "familiar-retreat",
   "metadata": {},
   "source": [
    "# Lags"
   ]
  },
  {
   "cell_type": "code",
   "execution_count": 145,
   "id": "stock-speech",
   "metadata": {},
   "outputs": [],
   "source": [
    "df1 = pd.read_csv('https://raw.githubusercontent.com/epiforecasts/evaluate-delta-for-forecasting/main/data/observations/rki.csv')\n",
    "df2 = pd.read_csv('https://raw.githubusercontent.com/epiforecasts/evaluate-delta-for-forecasting/main/data/observations/covariants.csv')"
   ]
  },
  {
   "cell_type": "code",
   "execution_count": 146,
   "id": "dependent-embassy",
   "metadata": {},
   "outputs": [],
   "source": [
    "df2 = df2[df2.location_name == 'Germany']"
   ]
  },
  {
   "cell_type": "code",
   "execution_count": 147,
   "id": "considerable-viewer",
   "metadata": {},
   "outputs": [],
   "source": [
    "df1 = df1[['date', 'seq_available', 'share_voc']]\n",
    "df2 = df2[['date', 'seq_available', 'share_voc']]"
   ]
  },
  {
   "cell_type": "code",
   "execution_count": 148,
   "id": "rapid-approval",
   "metadata": {},
   "outputs": [],
   "source": [
    "df1.date = pd.to_datetime(df1.date)\n",
    "df2.date = pd.to_datetime(df2.date)\n",
    "\n",
    "df1.seq_available = pd.to_datetime(df1.seq_available)\n",
    "df2.seq_available = pd.to_datetime(df2.seq_available)"
   ]
  },
  {
   "cell_type": "code",
   "execution_count": 149,
   "id": "indian-institute",
   "metadata": {},
   "outputs": [],
   "source": [
    "df1['lag'] = df1.seq_available - df1.date\n",
    "\n",
    "lags = df1.groupby('date', as_index = False).lag.min()\n",
    "\n",
    "df2['lag'] = df2.seq_available - df2.date\n",
    "\n",
    "lags2 = df2.groupby('date', as_index = False).lag.min()"
   ]
  },
  {
   "cell_type": "code",
   "execution_count": 150,
   "id": "nervous-blues",
   "metadata": {},
   "outputs": [
    {
     "data": {
      "text/html": [
       "<div>\n",
       "<style scoped>\n",
       "    .dataframe tbody tr th:only-of-type {\n",
       "        vertical-align: middle;\n",
       "    }\n",
       "\n",
       "    .dataframe tbody tr th {\n",
       "        vertical-align: top;\n",
       "    }\n",
       "\n",
       "    .dataframe thead th {\n",
       "        text-align: right;\n",
       "    }\n",
       "</style>\n",
       "<table border=\"1\" class=\"dataframe\">\n",
       "  <thead>\n",
       "    <tr style=\"text-align: right;\">\n",
       "      <th></th>\n",
       "      <th>date</th>\n",
       "      <th>lag_rki</th>\n",
       "      <th>lag_cov</th>\n",
       "    </tr>\n",
       "  </thead>\n",
       "  <tbody>\n",
       "    <tr>\n",
       "      <th>0</th>\n",
       "      <td>2021-03-20</td>\n",
       "      <td>NaT</td>\n",
       "      <td>NaT</td>\n",
       "    </tr>\n",
       "    <tr>\n",
       "      <th>1</th>\n",
       "      <td>2021-03-27</td>\n",
       "      <td>NaT</td>\n",
       "      <td>NaT</td>\n",
       "    </tr>\n",
       "    <tr>\n",
       "      <th>2</th>\n",
       "      <td>2021-04-03</td>\n",
       "      <td>NaT</td>\n",
       "      <td>NaT</td>\n",
       "    </tr>\n",
       "    <tr>\n",
       "      <th>3</th>\n",
       "      <td>2021-04-10</td>\n",
       "      <td>NaT</td>\n",
       "      <td>60 days</td>\n",
       "    </tr>\n",
       "    <tr>\n",
       "      <th>4</th>\n",
       "      <td>2021-04-17</td>\n",
       "      <td>25 days</td>\n",
       "      <td>53 days</td>\n",
       "    </tr>\n",
       "    <tr>\n",
       "      <th>5</th>\n",
       "      <td>2021-04-24</td>\n",
       "      <td>18 days</td>\n",
       "      <td>46 days</td>\n",
       "    </tr>\n",
       "    <tr>\n",
       "      <th>6</th>\n",
       "      <td>2021-05-01</td>\n",
       "      <td>11 days</td>\n",
       "      <td>39 days</td>\n",
       "    </tr>\n",
       "    <tr>\n",
       "      <th>7</th>\n",
       "      <td>2021-05-08</td>\n",
       "      <td>11 days</td>\n",
       "      <td>32 days</td>\n",
       "    </tr>\n",
       "    <tr>\n",
       "      <th>8</th>\n",
       "      <td>2021-05-15</td>\n",
       "      <td>11 days</td>\n",
       "      <td>25 days</td>\n",
       "    </tr>\n",
       "    <tr>\n",
       "      <th>9</th>\n",
       "      <td>2021-05-22</td>\n",
       "      <td>11 days</td>\n",
       "      <td>18 days</td>\n",
       "    </tr>\n",
       "    <tr>\n",
       "      <th>10</th>\n",
       "      <td>2021-05-29</td>\n",
       "      <td>11 days</td>\n",
       "      <td>11 days</td>\n",
       "    </tr>\n",
       "    <tr>\n",
       "      <th>11</th>\n",
       "      <td>2021-06-05</td>\n",
       "      <td>11 days</td>\n",
       "      <td>4 days</td>\n",
       "    </tr>\n",
       "    <tr>\n",
       "      <th>12</th>\n",
       "      <td>2021-06-12</td>\n",
       "      <td>11 days</td>\n",
       "      <td>3 days</td>\n",
       "    </tr>\n",
       "    <tr>\n",
       "      <th>13</th>\n",
       "      <td>2021-06-19</td>\n",
       "      <td>11 days</td>\n",
       "      <td>6 days</td>\n",
       "    </tr>\n",
       "    <tr>\n",
       "      <th>14</th>\n",
       "      <td>2021-06-26</td>\n",
       "      <td>11 days</td>\n",
       "      <td>4 days</td>\n",
       "    </tr>\n",
       "    <tr>\n",
       "      <th>15</th>\n",
       "      <td>2021-07-03</td>\n",
       "      <td>11 days</td>\n",
       "      <td>3 days</td>\n",
       "    </tr>\n",
       "    <tr>\n",
       "      <th>16</th>\n",
       "      <td>2021-07-10</td>\n",
       "      <td>12 days</td>\n",
       "      <td>5 days</td>\n",
       "    </tr>\n",
       "    <tr>\n",
       "      <th>17</th>\n",
       "      <td>2021-07-17</td>\n",
       "      <td>12 days</td>\n",
       "      <td>3 days</td>\n",
       "    </tr>\n",
       "    <tr>\n",
       "      <th>18</th>\n",
       "      <td>2021-07-24</td>\n",
       "      <td>12 days</td>\n",
       "      <td>2 days</td>\n",
       "    </tr>\n",
       "    <tr>\n",
       "      <th>19</th>\n",
       "      <td>2021-07-31</td>\n",
       "      <td>12 days</td>\n",
       "      <td>4 days</td>\n",
       "    </tr>\n",
       "    <tr>\n",
       "      <th>20</th>\n",
       "      <td>2021-08-07</td>\n",
       "      <td>12 days</td>\n",
       "      <td>0 days</td>\n",
       "    </tr>\n",
       "    <tr>\n",
       "      <th>21</th>\n",
       "      <td>2021-08-14</td>\n",
       "      <td>12 days</td>\n",
       "      <td>10 days</td>\n",
       "    </tr>\n",
       "    <tr>\n",
       "      <th>22</th>\n",
       "      <td>2021-08-21</td>\n",
       "      <td>12 days</td>\n",
       "      <td>NaT</td>\n",
       "    </tr>\n",
       "    <tr>\n",
       "      <th>23</th>\n",
       "      <td>2021-08-28</td>\n",
       "      <td>12 days</td>\n",
       "      <td>NaT</td>\n",
       "    </tr>\n",
       "    <tr>\n",
       "      <th>24</th>\n",
       "      <td>2021-09-04</td>\n",
       "      <td>NaT</td>\n",
       "      <td>NaT</td>\n",
       "    </tr>\n",
       "    <tr>\n",
       "      <th>25</th>\n",
       "      <td>2021-09-11</td>\n",
       "      <td>NaT</td>\n",
       "      <td>NaT</td>\n",
       "    </tr>\n",
       "  </tbody>\n",
       "</table>\n",
       "</div>"
      ],
      "text/plain": [
       "         date lag_rki lag_cov\n",
       "0  2021-03-20     NaT     NaT\n",
       "1  2021-03-27     NaT     NaT\n",
       "2  2021-04-03     NaT     NaT\n",
       "3  2021-04-10     NaT 60 days\n",
       "4  2021-04-17 25 days 53 days\n",
       "5  2021-04-24 18 days 46 days\n",
       "6  2021-05-01 11 days 39 days\n",
       "7  2021-05-08 11 days 32 days\n",
       "8  2021-05-15 11 days 25 days\n",
       "9  2021-05-22 11 days 18 days\n",
       "10 2021-05-29 11 days 11 days\n",
       "11 2021-06-05 11 days  4 days\n",
       "12 2021-06-12 11 days  3 days\n",
       "13 2021-06-19 11 days  6 days\n",
       "14 2021-06-26 11 days  4 days\n",
       "15 2021-07-03 11 days  3 days\n",
       "16 2021-07-10 12 days  5 days\n",
       "17 2021-07-17 12 days  3 days\n",
       "18 2021-07-24 12 days  2 days\n",
       "19 2021-07-31 12 days  4 days\n",
       "20 2021-08-07 12 days  0 days\n",
       "21 2021-08-14 12 days 10 days\n",
       "22 2021-08-21 12 days     NaT\n",
       "23 2021-08-28 12 days     NaT\n",
       "24 2021-09-04     NaT     NaT\n",
       "25 2021-09-11     NaT     NaT"
      ]
     },
     "execution_count": 150,
     "metadata": {},
     "output_type": "execute_result"
    }
   ],
   "source": [
    "lags.merge(lags2, on = 'date', suffixes = ('_rki', '_cov'))"
   ]
  },
  {
   "cell_type": "code",
   "execution_count": null,
   "id": "million-catalyst",
   "metadata": {},
   "outputs": [],
   "source": []
  }
 ],
 "metadata": {
  "kernelspec": {
   "display_name": "Python 3",
   "language": "python",
   "name": "python3"
  },
  "language_info": {
   "codemirror_mode": {
    "name": "ipython",
    "version": 3
   },
   "file_extension": ".py",
   "mimetype": "text/x-python",
   "name": "python",
   "nbconvert_exporter": "python",
   "pygments_lexer": "ipython3",
   "version": "3.8.8"
  }
 },
 "nbformat": 4,
 "nbformat_minor": 5
}
