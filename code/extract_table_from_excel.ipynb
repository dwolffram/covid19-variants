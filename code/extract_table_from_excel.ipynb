{
 "cells": [
  {
   "cell_type": "markdown",
   "id": "adverse-elimination",
   "metadata": {},
   "source": [
    "# Setup"
   ]
  },
  {
   "cell_type": "code",
   "execution_count": 1,
   "id": "second-nitrogen",
   "metadata": {},
   "outputs": [],
   "source": [
    "import requests\n",
    "import pandas as pd"
   ]
  },
  {
   "cell_type": "markdown",
   "id": "oriented-prefix",
   "metadata": {},
   "source": [
    "# Download latest file"
   ]
  },
  {
   "cell_type": "code",
   "execution_count": 2,
   "id": "defined-profession",
   "metadata": {},
   "outputs": [],
   "source": [
    "todays_date = str(pd.to_datetime('today').date())"
   ]
  },
  {
   "cell_type": "code",
   "execution_count": 3,
   "id": "supposed-waterproof",
   "metadata": {},
   "outputs": [],
   "source": [
    "url = 'https://www.rki.de/DE/Content/InfAZ/N/Neuartiges_Coronavirus/Daten/VOC_VOI_Tabelle.xlsx?__blob=publicationFile'\n",
    "\n",
    "resp = requests.get(url)\n",
    "with open(\"../data//raw/{}_variants_raw.xls\".format(todays_date), 'wb') as output:\n",
    "    output.write(resp.content)"
   ]
  },
  {
   "cell_type": "markdown",
   "id": "chemical-pierre",
   "metadata": {},
   "source": [
    "# Load file"
   ]
  },
  {
   "cell_type": "code",
   "execution_count": 4,
   "id": "verbal-paintball",
   "metadata": {},
   "outputs": [],
   "source": [
    "xls = pd.ExcelFile(\"../data/raw/{}_variants_raw.xls\".format(todays_date))\n",
    "\n",
    "df = pd.read_excel(xls, 'VOC')"
   ]
  },
  {
   "cell_type": "code",
   "execution_count": 5,
   "id": "after-cooling",
   "metadata": {},
   "outputs": [
    {
     "data": {
      "text/plain": [
       "Index(['KW', 'B.1.1.7_Anzahl', 'B.1.1.7_Anteil (%)',\n",
       "       'B.1.351+B.1.351.1+B.1.351.2+B.1.351.3_Anzahl',\n",
       "       'B.1.351+B.1.351.1+B.1.351.2+B.1.351.3_Anteil (%)',\n",
       "       'B.1.617.2+AY.1+AY.2+AY.3_Anzahl',\n",
       "       'B.1.617.2+AY.1+AY.2+AY.3_Anteil (%)', 'P.1+P.1.1+P.1.2_Anzahl',\n",
       "       'P.1+P.1.1+P.1.2_Anteil (%)', 'Gesamt_Anzahl', 'Gesamt_Anteil (%)'],\n",
       "      dtype='object')"
      ]
     },
     "execution_count": 5,
     "metadata": {},
     "output_type": "execute_result"
    }
   ],
   "source": [
    "df.columns"
   ]
  },
  {
   "cell_type": "markdown",
   "id": "secondary-exception",
   "metadata": {},
   "source": [
    "# Data preparation"
   ]
  },
  {
   "cell_type": "code",
   "execution_count": 6,
   "id": "offensive-devices",
   "metadata": {},
   "outputs": [],
   "source": [
    "# in the latest report some columns contain multiple sublines of variants\n",
    "variant_dict = {'B.1.351\\+B.1.351.1\\+B.1.351.2\\+B.1.351.3': 'B.1.351',\n",
    "              'P.1\\+P.1.1\\+P.1.2': 'P.1',\n",
    "              'B.1.617.2\\+AY.1\\+AY.2\\+AY.3': 'B.1.617.2'}"
   ]
  },
  {
   "cell_type": "code",
   "execution_count": 7,
   "id": "eastern-anthony",
   "metadata": {},
   "outputs": [],
   "source": [
    "df.columns = pd.Series(df.columns.values).replace(variant_dict, regex=True)"
   ]
  },
  {
   "cell_type": "code",
   "execution_count": 8,
   "id": "orange-bulletin",
   "metadata": {},
   "outputs": [],
   "source": [
    "df = df.iloc[:-1, ]\n",
    "df.KW = df.KW.str[2:].astype(int)\n",
    "df.columns = [c.strip(' \\(\\%\\)').replace('Anzahl', 'count').replace('Anteil', 'proportion').replace('Gesamt', 'total') if c != 'KW' else 'week' for c in df.columns]\n",
    "df = df.round(1)"
   ]
  },
  {
   "cell_type": "code",
   "execution_count": 9,
   "id": "floating-shirt",
   "metadata": {},
   "outputs": [
    {
     "data": {
      "text/html": [
       "<div>\n",
       "<style scoped>\n",
       "    .dataframe tbody tr th:only-of-type {\n",
       "        vertical-align: middle;\n",
       "    }\n",
       "\n",
       "    .dataframe tbody tr th {\n",
       "        vertical-align: top;\n",
       "    }\n",
       "\n",
       "    .dataframe thead th {\n",
       "        text-align: right;\n",
       "    }\n",
       "</style>\n",
       "<table border=\"1\" class=\"dataframe\">\n",
       "  <thead>\n",
       "    <tr style=\"text-align: right;\">\n",
       "      <th></th>\n",
       "      <th>week</th>\n",
       "      <th>B.1.1.7_count</th>\n",
       "      <th>B.1.1.7_proportion</th>\n",
       "      <th>B.1.351_count</th>\n",
       "      <th>B.1.351_proportion</th>\n",
       "      <th>B.1.617.2_count</th>\n",
       "      <th>B.1.617.2_proportion</th>\n",
       "      <th>P.1_count</th>\n",
       "      <th>P.1_proportion</th>\n",
       "      <th>total_count</th>\n",
       "      <th>total_proportion</th>\n",
       "    </tr>\n",
       "  </thead>\n",
       "  <tbody>\n",
       "    <tr>\n",
       "      <th>23</th>\n",
       "      <td>24</td>\n",
       "      <td>552</td>\n",
       "      <td>52.5</td>\n",
       "      <td>11</td>\n",
       "      <td>1.0</td>\n",
       "      <td>414</td>\n",
       "      <td>39.4</td>\n",
       "      <td>14</td>\n",
       "      <td>1.3</td>\n",
       "      <td>991</td>\n",
       "      <td>94.2</td>\n",
       "    </tr>\n",
       "    <tr>\n",
       "      <th>24</th>\n",
       "      <td>25</td>\n",
       "      <td>245</td>\n",
       "      <td>32.5</td>\n",
       "      <td>3</td>\n",
       "      <td>0.4</td>\n",
       "      <td>451</td>\n",
       "      <td>59.9</td>\n",
       "      <td>7</td>\n",
       "      <td>0.9</td>\n",
       "      <td>706</td>\n",
       "      <td>93.8</td>\n",
       "    </tr>\n",
       "    <tr>\n",
       "      <th>25</th>\n",
       "      <td>26</td>\n",
       "      <td>156</td>\n",
       "      <td>18.9</td>\n",
       "      <td>1</td>\n",
       "      <td>0.1</td>\n",
       "      <td>631</td>\n",
       "      <td>76.5</td>\n",
       "      <td>15</td>\n",
       "      <td>1.8</td>\n",
       "      <td>803</td>\n",
       "      <td>97.3</td>\n",
       "    </tr>\n",
       "    <tr>\n",
       "      <th>26</th>\n",
       "      <td>27</td>\n",
       "      <td>76</td>\n",
       "      <td>10.1</td>\n",
       "      <td>1</td>\n",
       "      <td>0.1</td>\n",
       "      <td>643</td>\n",
       "      <td>85.7</td>\n",
       "      <td>15</td>\n",
       "      <td>2.0</td>\n",
       "      <td>735</td>\n",
       "      <td>98.0</td>\n",
       "    </tr>\n",
       "    <tr>\n",
       "      <th>27</th>\n",
       "      <td>28</td>\n",
       "      <td>34</td>\n",
       "      <td>6.0</td>\n",
       "      <td>0</td>\n",
       "      <td>0.0</td>\n",
       "      <td>521</td>\n",
       "      <td>91.4</td>\n",
       "      <td>9</td>\n",
       "      <td>1.6</td>\n",
       "      <td>564</td>\n",
       "      <td>98.9</td>\n",
       "    </tr>\n",
       "  </tbody>\n",
       "</table>\n",
       "</div>"
      ],
      "text/plain": [
       "    week  B.1.1.7_count  B.1.1.7_proportion  B.1.351_count  \\\n",
       "23    24            552                52.5             11   \n",
       "24    25            245                32.5              3   \n",
       "25    26            156                18.9              1   \n",
       "26    27             76                10.1              1   \n",
       "27    28             34                 6.0              0   \n",
       "\n",
       "    B.1.351_proportion  B.1.617.2_count  B.1.617.2_proportion  P.1_count  \\\n",
       "23                 1.0              414                  39.4         14   \n",
       "24                 0.4              451                  59.9          7   \n",
       "25                 0.1              631                  76.5         15   \n",
       "26                 0.1              643                  85.7         15   \n",
       "27                 0.0              521                  91.4          9   \n",
       "\n",
       "    P.1_proportion  total_count  total_proportion  \n",
       "23             1.3          991              94.2  \n",
       "24             0.9          706              93.8  \n",
       "25             1.8          803              97.3  \n",
       "26             2.0          735              98.0  \n",
       "27             1.6          564              98.9  "
      ]
     },
     "execution_count": 9,
     "metadata": {},
     "output_type": "execute_result"
    }
   ],
   "source": [
    "df.tail()"
   ]
  },
  {
   "cell_type": "markdown",
   "id": "derived-framework",
   "metadata": {},
   "source": [
    "# Export"
   ]
  },
  {
   "cell_type": "code",
   "execution_count": 10,
   "id": "occupational-comment",
   "metadata": {},
   "outputs": [],
   "source": [
    "df.to_csv('../data/archive/{}_variants_of_concern_sample.csv'.format(todays_date), index=False)"
   ]
  },
  {
   "cell_type": "markdown",
   "id": "unable-joint",
   "metadata": {},
   "source": [
    "# Plot"
   ]
  },
  {
   "cell_type": "code",
   "execution_count": 11,
   "id": "automated-primary",
   "metadata": {},
   "outputs": [],
   "source": [
    "df.set_index('week', inplace=True)"
   ]
  },
  {
   "cell_type": "code",
   "execution_count": 12,
   "id": "lesser-vermont",
   "metadata": {},
   "outputs": [],
   "source": [
    "# select columns with proportions\n",
    "cols = [c for c in df.columns if 'proportion' in c and c != 'total_proportion']\n",
    "df2 = df[cols]\n",
    "df2.columns = [c.split('_')[0] for c in df2.columns]"
   ]
  },
  {
   "cell_type": "code",
   "execution_count": 15,
   "id": "expected-romania",
   "metadata": {},
   "outputs": [
    {
     "data": {
      "image/png": "[encoded data removed]",
      "text/plain": [
       "<Figure size 720x432 with 1 Axes>"
      ]
     },
     "metadata": {
      "needs_background": "light"
     },
     "output_type": "display_data"
    }
   ],
   "source": [
    "ax = df2.plot(kind='bar', stacked=True, figsize=[10, 6], fontsize=14)"
   ]
  }
 ],
 "metadata": {
  "kernelspec": {
   "display_name": "Python 3",
   "language": "python",
   "name": "python3"
  },
  "language_info": {
   "codemirror_mode": {
    "name": "ipython",
    "version": 3
   },
   "file_extension": ".py",
   "mimetype": "text/x-python",
   "name": "python",
   "nbconvert_exporter": "python",
   "pygments_lexer": "ipython3",
   "version": "3.8.8"
  }
 },
 "nbformat": 4,
 "nbformat_minor": 5
}
