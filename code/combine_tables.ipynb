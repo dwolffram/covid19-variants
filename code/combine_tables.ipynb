{
 "cells": [
  {
   "cell_type": "markdown",
   "id": "decent-river",
   "metadata": {},
   "source": [
    "# Setup"
   ]
  },
  {
   "cell_type": "code",
   "execution_count": 1,
   "id": "nearby-trunk",
   "metadata": {},
   "outputs": [],
   "source": [
    "import glob\n",
    "import pandas as pd"
   ]
  },
  {
   "cell_type": "code",
   "execution_count": 2,
   "id": "absolute-poverty",
   "metadata": {},
   "outputs": [],
   "source": [
    "import calendar\n",
    "import datetime\n",
    "from datetime import timedelta\n",
    "\n",
    "def get_range_of_week(year, calendar_week):       \n",
    "    monday = datetime.datetime.strptime(f'{year}-{calendar_week}-1', \"%Y-%W-%w\").date()\n",
    "    return pd.Series([str(monday), str(monday + datetime.timedelta(days=6.9))], index=['week_start', 'week_end'])"
   ]
  },
  {
   "cell_type": "markdown",
   "id": "contained-startup",
   "metadata": {},
   "source": [
    "# Load all files"
   ]
  },
  {
   "cell_type": "code",
   "execution_count": 3,
   "id": "pharmaceutical-stevens",
   "metadata": {},
   "outputs": [],
   "source": [
    "list_of_files = glob.glob('../data//archive/*_variants_of_concern_sample.csv')"
   ]
  },
  {
   "cell_type": "code",
   "execution_count": 4,
   "id": "green-trout",
   "metadata": {},
   "outputs": [
    {
     "data": {
      "text/plain": [
       "['../data//archive\\\\2021-05-12_variants_of_concern_sample.csv',\n",
       " '../data//archive\\\\2021-05-19_variants_of_concern_sample.csv',\n",
       " '../data//archive\\\\2021-05-26_variants_of_concern_sample.csv',\n",
       " '../data//archive\\\\2021-06-02_variants_of_concern_sample.csv',\n",
       " '../data//archive\\\\2021-06-09_variants_of_concern_sample.csv',\n",
       " '../data//archive\\\\2021-06-16_variants_of_concern_sample.csv',\n",
       " '../data//archive\\\\2021-06-23_variants_of_concern_sample.csv',\n",
       " '../data//archive\\\\2021-06-30_variants_of_concern_sample.csv',\n",
       " '../data//archive\\\\2021-07-07_variants_of_concern_sample.csv',\n",
       " '../data//archive\\\\2021-07-14_variants_of_concern_sample.csv',\n",
       " '../data//archive\\\\2021-07-22_variants_of_concern_sample.csv',\n",
       " '../data//archive\\\\2021-07-29_variants_of_concern_sample.csv']"
      ]
     },
     "execution_count": 4,
     "metadata": {},
     "output_type": "execute_result"
    }
   ],
   "source": [
    "list_of_files"
   ]
  },
  {
   "cell_type": "code",
   "execution_count": 5,
   "id": "swedish-apache",
   "metadata": {},
   "outputs": [],
   "source": [
    "dates = [f.split('\\\\')[1].split('_')[0] for f in list_of_files]"
   ]
  },
  {
   "cell_type": "markdown",
   "id": "flexible-husband",
   "metadata": {},
   "source": [
    "Load each file and add date of availability as column"
   ]
  },
  {
   "cell_type": "code",
   "execution_count": 6,
   "id": "primary-rainbow",
   "metadata": {},
   "outputs": [],
   "source": [
    "df_all = pd.DataFrame()\n",
    "\n",
    "for i, d in enumerate(dates):\n",
    "    df = pd.read_csv(list_of_files[i])\n",
    "    df['seq_available'] = d\n",
    "    df_all = df_all.append(df, ignore_index=True)"
   ]
  },
  {
   "cell_type": "markdown",
   "id": "mighty-salvation",
   "metadata": {},
   "source": [
    "# Data preparation"
   ]
  },
  {
   "cell_type": "code",
   "execution_count": 7,
   "id": "fifth-reception",
   "metadata": {},
   "outputs": [],
   "source": [
    "df_all.drop(columns=['total_count', 'total_proportion'], inplace=True)"
   ]
  },
  {
   "cell_type": "code",
   "execution_count": 8,
   "id": "sixth-fellow",
   "metadata": {},
   "outputs": [],
   "source": [
    "# df_all['max_count'] = df_all[[c for c in df_all.columns if 'count' in c]].max(axis=1)\n",
    "# df_all['max_proportion'] = df_all[[c for c in df_all.columns if 'proportion' in c]].max(axis=1)\n",
    "\n",
    "# df_all['total_count'] = round(100*df_all.max_count / df_all.max_proportion).astype(int)\n",
    "\n",
    "# df_all.drop(columns=['max_count', 'max_proportion'], inplace=True)"
   ]
  },
  {
   "cell_type": "markdown",
   "id": "demonstrated-origin",
   "metadata": {},
   "source": [
    "Get start and end date of the given weeks"
   ]
  },
  {
   "cell_type": "code",
   "execution_count": 9,
   "id": "positive-recognition",
   "metadata": {},
   "outputs": [],
   "source": [
    "df_all = df_all.join(df_all.apply(lambda x: get_range_of_week(2021, x['week']), axis=1))"
   ]
  },
  {
   "cell_type": "markdown",
   "id": "spare-march",
   "metadata": {},
   "source": [
    "Reorder columns"
   ]
  },
  {
   "cell_type": "code",
   "execution_count": 10,
   "id": "scientific-paper",
   "metadata": {},
   "outputs": [],
   "source": [
    "df_all = df_all[['seq_available', 'week', 'week_start', 'week_end', 'B.1.1.7_count', 'B.1.1.7_proportion', 'B.1.351_count',\n",
    "       'B.1.351_proportion', 'B.1.617.1_count', 'B.1.617.1_proportion',\n",
    "       'B.1.617.2_count', 'B.1.617.2_proportion', 'P.1_count',\n",
    "       'P.1_proportion']]"
   ]
  },
  {
   "cell_type": "code",
   "execution_count": 11,
   "id": "pregnant-trustee",
   "metadata": {},
   "outputs": [
    {
     "data": {
      "text/html": [
       "<div>\n",
       "<style scoped>\n",
       "    .dataframe tbody tr th:only-of-type {\n",
       "        vertical-align: middle;\n",
       "    }\n",
       "\n",
       "    .dataframe tbody tr th {\n",
       "        vertical-align: top;\n",
       "    }\n",
       "\n",
       "    .dataframe thead th {\n",
       "        text-align: right;\n",
       "    }\n",
       "</style>\n",
       "<table border=\"1\" class=\"dataframe\">\n",
       "  <thead>\n",
       "    <tr style=\"text-align: right;\">\n",
       "      <th></th>\n",
       "      <th>seq_available</th>\n",
       "      <th>week</th>\n",
       "      <th>week_start</th>\n",
       "      <th>week_end</th>\n",
       "      <th>B.1.1.7_count</th>\n",
       "      <th>B.1.1.7_proportion</th>\n",
       "      <th>B.1.351_count</th>\n",
       "      <th>B.1.351_proportion</th>\n",
       "      <th>B.1.617.1_count</th>\n",
       "      <th>B.1.617.1_proportion</th>\n",
       "      <th>B.1.617.2_count</th>\n",
       "      <th>B.1.617.2_proportion</th>\n",
       "      <th>P.1_count</th>\n",
       "      <th>P.1_proportion</th>\n",
       "    </tr>\n",
       "  </thead>\n",
       "  <tbody>\n",
       "    <tr>\n",
       "      <th>265</th>\n",
       "      <td>2021-07-29</td>\n",
       "      <td>24</td>\n",
       "      <td>2021-06-14</td>\n",
       "      <td>2021-06-20</td>\n",
       "      <td>552</td>\n",
       "      <td>52.5</td>\n",
       "      <td>11</td>\n",
       "      <td>1.0</td>\n",
       "      <td>NaN</td>\n",
       "      <td>NaN</td>\n",
       "      <td>414</td>\n",
       "      <td>39.4</td>\n",
       "      <td>14</td>\n",
       "      <td>1.3</td>\n",
       "    </tr>\n",
       "    <tr>\n",
       "      <th>266</th>\n",
       "      <td>2021-07-29</td>\n",
       "      <td>25</td>\n",
       "      <td>2021-06-21</td>\n",
       "      <td>2021-06-27</td>\n",
       "      <td>245</td>\n",
       "      <td>32.5</td>\n",
       "      <td>3</td>\n",
       "      <td>0.4</td>\n",
       "      <td>NaN</td>\n",
       "      <td>NaN</td>\n",
       "      <td>451</td>\n",
       "      <td>59.9</td>\n",
       "      <td>7</td>\n",
       "      <td>0.9</td>\n",
       "    </tr>\n",
       "    <tr>\n",
       "      <th>267</th>\n",
       "      <td>2021-07-29</td>\n",
       "      <td>26</td>\n",
       "      <td>2021-06-28</td>\n",
       "      <td>2021-07-04</td>\n",
       "      <td>156</td>\n",
       "      <td>18.9</td>\n",
       "      <td>1</td>\n",
       "      <td>0.1</td>\n",
       "      <td>NaN</td>\n",
       "      <td>NaN</td>\n",
       "      <td>631</td>\n",
       "      <td>76.5</td>\n",
       "      <td>15</td>\n",
       "      <td>1.8</td>\n",
       "    </tr>\n",
       "    <tr>\n",
       "      <th>268</th>\n",
       "      <td>2021-07-29</td>\n",
       "      <td>27</td>\n",
       "      <td>2021-07-05</td>\n",
       "      <td>2021-07-11</td>\n",
       "      <td>76</td>\n",
       "      <td>10.1</td>\n",
       "      <td>1</td>\n",
       "      <td>0.1</td>\n",
       "      <td>NaN</td>\n",
       "      <td>NaN</td>\n",
       "      <td>643</td>\n",
       "      <td>85.7</td>\n",
       "      <td>15</td>\n",
       "      <td>2.0</td>\n",
       "    </tr>\n",
       "    <tr>\n",
       "      <th>269</th>\n",
       "      <td>2021-07-29</td>\n",
       "      <td>28</td>\n",
       "      <td>2021-07-12</td>\n",
       "      <td>2021-07-18</td>\n",
       "      <td>34</td>\n",
       "      <td>6.0</td>\n",
       "      <td>0</td>\n",
       "      <td>0.0</td>\n",
       "      <td>NaN</td>\n",
       "      <td>NaN</td>\n",
       "      <td>521</td>\n",
       "      <td>91.4</td>\n",
       "      <td>9</td>\n",
       "      <td>1.6</td>\n",
       "    </tr>\n",
       "  </tbody>\n",
       "</table>\n",
       "</div>"
      ],
      "text/plain": [
       "    seq_available  week  week_start    week_end  B.1.1.7_count  \\\n",
       "265    2021-07-29    24  2021-06-14  2021-06-20            552   \n",
       "266    2021-07-29    25  2021-06-21  2021-06-27            245   \n",
       "267    2021-07-29    26  2021-06-28  2021-07-04            156   \n",
       "268    2021-07-29    27  2021-07-05  2021-07-11             76   \n",
       "269    2021-07-29    28  2021-07-12  2021-07-18             34   \n",
       "\n",
       "     B.1.1.7_proportion  B.1.351_count  B.1.351_proportion  B.1.617.1_count  \\\n",
       "265                52.5             11                 1.0              NaN   \n",
       "266                32.5              3                 0.4              NaN   \n",
       "267                18.9              1                 0.1              NaN   \n",
       "268                10.1              1                 0.1              NaN   \n",
       "269                 6.0              0                 0.0              NaN   \n",
       "\n",
       "     B.1.617.1_proportion  B.1.617.2_count  B.1.617.2_proportion  P.1_count  \\\n",
       "265                   NaN              414                  39.4         14   \n",
       "266                   NaN              451                  59.9          7   \n",
       "267                   NaN              631                  76.5         15   \n",
       "268                   NaN              643                  85.7         15   \n",
       "269                   NaN              521                  91.4          9   \n",
       "\n",
       "     P.1_proportion  \n",
       "265             1.3  \n",
       "266             0.9  \n",
       "267             1.8  \n",
       "268             2.0  \n",
       "269             1.6  "
      ]
     },
     "execution_count": 11,
     "metadata": {},
     "output_type": "execute_result"
    }
   ],
   "source": [
    "df_all.tail()"
   ]
  },
  {
   "cell_type": "markdown",
   "id": "meaningful-pillow",
   "metadata": {},
   "source": [
    "# Export"
   ]
  },
  {
   "cell_type": "code",
   "execution_count": 12,
   "id": "studied-image",
   "metadata": {},
   "outputs": [],
   "source": [
    "df_all.to_csv('../data/sequencing_germany.csv'.format(df_all.seq_available.max()), index=False)"
   ]
  },
  {
   "cell_type": "markdown",
   "id": "graphic-router",
   "metadata": {},
   "source": [
    "# Plot"
   ]
  },
  {
   "cell_type": "code",
   "execution_count": 13,
   "id": "demanding-inspection",
   "metadata": {},
   "outputs": [
    {
     "data": {
      "image/png": "[encoded data removed]",
      "text/plain": [
       "<Figure size 864x432 with 1 Axes>"
      ]
     },
     "metadata": {
      "needs_background": "light"
     },
     "output_type": "display_data"
    }
   ],
   "source": [
    "df_all.set_index('week').groupby(['seq_available'])['B.1.617.2_proportion'].plot(figsize=[12, 6]);"
   ]
  }
 ],
 "metadata": {
  "kernelspec": {
   "display_name": "Python 3",
   "language": "python",
   "name": "python3"
  },
  "language_info": {
   "codemirror_mode": {
    "name": "ipython",
    "version": 3
   },
   "file_extension": ".py",
   "mimetype": "text/x-python",
   "name": "python",
   "nbconvert_exporter": "python",
   "pygments_lexer": "ipython3",
   "version": "3.8.8"
  }
 },
 "nbformat": 4,
 "nbformat_minor": 5
}
