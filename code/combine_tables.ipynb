{
 "cells": [
  {
   "cell_type": "markdown",
   "id": "prescribed-relief",
   "metadata": {},
   "source": [
    "# Setup"
   ]
  },
  {
   "cell_type": "code",
   "execution_count": 1,
   "id": "nearby-trunk",
   "metadata": {},
   "outputs": [],
   "source": [
    "import glob\n",
    "import pandas as pd"
   ]
  },
  {
   "cell_type": "code",
   "execution_count": 2,
   "id": "satisfactory-letter",
   "metadata": {},
   "outputs": [],
   "source": [
    "import calendar\n",
    "import datetime\n",
    "from datetime import timedelta\n",
    "\n",
    "def get_range_of_week(year, calendar_week):       \n",
    "    monday = datetime.datetime.strptime(f'{year}-{calendar_week}-1', \"%Y-%W-%w\").date()\n",
    "    return pd.Series([str(monday), str(monday + datetime.timedelta(days=6.9))], index=['week_start', 'week_end'])"
   ]
  },
  {
   "cell_type": "markdown",
   "id": "swedish-stanford",
   "metadata": {},
   "source": [
    "# Load all files"
   ]
  },
  {
   "cell_type": "code",
   "execution_count": 3,
   "id": "pharmaceutical-stevens",
   "metadata": {},
   "outputs": [],
   "source": [
    "list_of_files = glob.glob('../data//archive/*_variants_of_concern_sample.csv')"
   ]
  },
  {
   "cell_type": "code",
   "execution_count": 4,
   "id": "green-trout",
   "metadata": {},
   "outputs": [
    {
     "data": {
      "text/plain": [
       "['../data//archive\\\\2021-05-12_variants_of_concern_sample.csv',\n",
       " '../data//archive\\\\2021-05-19_variants_of_concern_sample.csv',\n",
       " '../data//archive\\\\2021-05-26_variants_of_concern_sample.csv',\n",
       " '../data//archive\\\\2021-06-02_variants_of_concern_sample.csv',\n",
       " '../data//archive\\\\2021-06-09_variants_of_concern_sample.csv',\n",
       " '../data//archive\\\\2021-06-16_variants_of_concern_sample.csv',\n",
       " '../data//archive\\\\2021-06-23_variants_of_concern_sample.csv',\n",
       " '../data//archive\\\\2021-06-30_variants_of_concern_sample.csv',\n",
       " '../data//archive\\\\2021-07-07_variants_of_concern_sample.csv',\n",
       " '../data//archive\\\\2021-07-14_variants_of_concern_sample.csv',\n",
       " '../data//archive\\\\2021-07-22_variants_of_concern_sample.csv',\n",
       " '../data//archive\\\\2021-07-29_variants_of_concern_sample.csv',\n",
       " '../data//archive\\\\2021-08-05_variants_of_concern_sample.csv',\n",
       " '../data//archive\\\\2021-08-12_variants_of_concern_sample.csv',\n",
       " '../data//archive\\\\2021-08-19_variants_of_concern_sample.csv',\n",
       " '../data//archive\\\\2021-08-26_variants_of_concern_sample.csv',\n",
       " '../data//archive\\\\2021-09-02_variants_of_concern_sample.csv',\n",
       " '../data//archive\\\\2021-09-09_variants_of_concern_sample.csv']"
      ]
     },
     "execution_count": 4,
     "metadata": {},
     "output_type": "execute_result"
    }
   ],
   "source": [
    "list_of_files"
   ]
  },
  {
   "cell_type": "code",
   "execution_count": 5,
   "id": "swedish-apache",
   "metadata": {},
   "outputs": [],
   "source": [
    "dates = [f.split('\\\\')[1].split('_')[0] for f in list_of_files]"
   ]
  },
  {
   "cell_type": "markdown",
   "id": "residential-sweet",
   "metadata": {},
   "source": [
    "Load each file and add date of availability as column"
   ]
  },
  {
   "cell_type": "code",
   "execution_count": 6,
   "id": "primary-rainbow",
   "metadata": {},
   "outputs": [],
   "source": [
    "df_all = pd.DataFrame()\n",
    "\n",
    "for i, d in enumerate(dates):\n",
    "    df = pd.read_csv(list_of_files[i])\n",
    "    df['seq_available'] = d\n",
    "    df_all = df_all.append(df, ignore_index=True)"
   ]
  },
  {
   "cell_type": "markdown",
   "id": "sharp-wallpaper",
   "metadata": {},
   "source": [
    "# Data preparation"
   ]
  },
  {
   "cell_type": "code",
   "execution_count": 7,
   "id": "fifth-reception",
   "metadata": {},
   "outputs": [],
   "source": [
    "df_all.drop(columns=['total_count', 'total_proportion'], inplace=True)"
   ]
  },
  {
   "cell_type": "code",
   "execution_count": 8,
   "id": "sixth-fellow",
   "metadata": {},
   "outputs": [],
   "source": [
    "# df_all['max_count'] = df_all[[c for c in df_all.columns if 'count' in c]].max(axis=1)\n",
    "# df_all['max_proportion'] = df_all[[c for c in df_all.columns if 'proportion' in c]].max(axis=1)\n",
    "\n",
    "# df_all['total_count'] = round(100*df_all.max_count / df_all.max_proportion).astype(int)\n",
    "\n",
    "# df_all.drop(columns=['max_count', 'max_proportion'], inplace=True)"
   ]
  },
  {
   "cell_type": "markdown",
   "id": "single-colon",
   "metadata": {},
   "source": [
    "Get start and end date of the given weeks"
   ]
  },
  {
   "cell_type": "code",
   "execution_count": 9,
   "id": "twelve-victim",
   "metadata": {},
   "outputs": [],
   "source": [
    "df_all = df_all.join(df_all.apply(lambda x: get_range_of_week(2021, x['week']), axis=1))"
   ]
  },
  {
   "cell_type": "markdown",
   "id": "optional-communications",
   "metadata": {},
   "source": [
    "Reorder columns"
   ]
  },
  {
   "cell_type": "code",
   "execution_count": 10,
   "id": "enabling-elite",
   "metadata": {},
   "outputs": [],
   "source": [
    "df_all = df_all[['seq_available', 'week', 'week_start', 'week_end', 'B.1.1.7_count', 'B.1.1.7_proportion', 'B.1.351_count',\n",
    "       'B.1.351_proportion', 'B.1.617.1_count', 'B.1.617.1_proportion',\n",
    "       'B.1.617.2_count', 'B.1.617.2_proportion', 'P.1_count',\n",
    "       'P.1_proportion']]"
   ]
  },
  {
   "cell_type": "code",
   "execution_count": 11,
   "id": "pregnant-trustee",
   "metadata": {},
   "outputs": [
    {
     "data": {
      "text/html": [
       "<div>\n",
       "<style scoped>\n",
       "    .dataframe tbody tr th:only-of-type {\n",
       "        vertical-align: middle;\n",
       "    }\n",
       "\n",
       "    .dataframe tbody tr th {\n",
       "        vertical-align: top;\n",
       "    }\n",
       "\n",
       "    .dataframe thead th {\n",
       "        text-align: right;\n",
       "    }\n",
       "</style>\n",
       "<table border=\"1\" class=\"dataframe\">\n",
       "  <thead>\n",
       "    <tr style=\"text-align: right;\">\n",
       "      <th></th>\n",
       "      <th>seq_available</th>\n",
       "      <th>week</th>\n",
       "      <th>week_start</th>\n",
       "      <th>week_end</th>\n",
       "      <th>B.1.1.7_count</th>\n",
       "      <th>B.1.1.7_proportion</th>\n",
       "      <th>B.1.351_count</th>\n",
       "      <th>B.1.351_proportion</th>\n",
       "      <th>B.1.617.1_count</th>\n",
       "      <th>B.1.617.1_proportion</th>\n",
       "      <th>B.1.617.2_count</th>\n",
       "      <th>B.1.617.2_proportion</th>\n",
       "      <th>P.1_count</th>\n",
       "      <th>P.1_proportion</th>\n",
       "    </tr>\n",
       "  </thead>\n",
       "  <tbody>\n",
       "    <tr>\n",
       "      <th>454</th>\n",
       "      <td>2021-09-09</td>\n",
       "      <td>30</td>\n",
       "      <td>2021-07-26</td>\n",
       "      <td>2021-08-01</td>\n",
       "      <td>NaN</td>\n",
       "      <td>1.8</td>\n",
       "      <td>NaN</td>\n",
       "      <td>0.0</td>\n",
       "      <td>NaN</td>\n",
       "      <td>NaN</td>\n",
       "      <td>NaN</td>\n",
       "      <td>97.4</td>\n",
       "      <td>NaN</td>\n",
       "      <td>0.1</td>\n",
       "    </tr>\n",
       "    <tr>\n",
       "      <th>455</th>\n",
       "      <td>2021-09-09</td>\n",
       "      <td>31</td>\n",
       "      <td>2021-08-02</td>\n",
       "      <td>2021-08-08</td>\n",
       "      <td>NaN</td>\n",
       "      <td>1.1</td>\n",
       "      <td>NaN</td>\n",
       "      <td>0.0</td>\n",
       "      <td>NaN</td>\n",
       "      <td>NaN</td>\n",
       "      <td>NaN</td>\n",
       "      <td>98.6</td>\n",
       "      <td>NaN</td>\n",
       "      <td>0.1</td>\n",
       "    </tr>\n",
       "    <tr>\n",
       "      <th>456</th>\n",
       "      <td>2021-09-09</td>\n",
       "      <td>32</td>\n",
       "      <td>2021-08-09</td>\n",
       "      <td>2021-08-15</td>\n",
       "      <td>NaN</td>\n",
       "      <td>0.4</td>\n",
       "      <td>NaN</td>\n",
       "      <td>0.0</td>\n",
       "      <td>NaN</td>\n",
       "      <td>NaN</td>\n",
       "      <td>NaN</td>\n",
       "      <td>99.1</td>\n",
       "      <td>NaN</td>\n",
       "      <td>0.1</td>\n",
       "    </tr>\n",
       "    <tr>\n",
       "      <th>457</th>\n",
       "      <td>2021-09-09</td>\n",
       "      <td>33</td>\n",
       "      <td>2021-08-16</td>\n",
       "      <td>2021-08-22</td>\n",
       "      <td>NaN</td>\n",
       "      <td>0.4</td>\n",
       "      <td>NaN</td>\n",
       "      <td>0.0</td>\n",
       "      <td>NaN</td>\n",
       "      <td>NaN</td>\n",
       "      <td>NaN</td>\n",
       "      <td>99.4</td>\n",
       "      <td>NaN</td>\n",
       "      <td>0.0</td>\n",
       "    </tr>\n",
       "    <tr>\n",
       "      <th>458</th>\n",
       "      <td>2021-09-09</td>\n",
       "      <td>34</td>\n",
       "      <td>2021-08-23</td>\n",
       "      <td>2021-08-29</td>\n",
       "      <td>NaN</td>\n",
       "      <td>0.2</td>\n",
       "      <td>NaN</td>\n",
       "      <td>0.0</td>\n",
       "      <td>NaN</td>\n",
       "      <td>NaN</td>\n",
       "      <td>NaN</td>\n",
       "      <td>99.7</td>\n",
       "      <td>NaN</td>\n",
       "      <td>0.0</td>\n",
       "    </tr>\n",
       "  </tbody>\n",
       "</table>\n",
       "</div>"
      ],
      "text/plain": [
       "    seq_available  week  week_start    week_end  B.1.1.7_count  \\\n",
       "454    2021-09-09    30  2021-07-26  2021-08-01            NaN   \n",
       "455    2021-09-09    31  2021-08-02  2021-08-08            NaN   \n",
       "456    2021-09-09    32  2021-08-09  2021-08-15            NaN   \n",
       "457    2021-09-09    33  2021-08-16  2021-08-22            NaN   \n",
       "458    2021-09-09    34  2021-08-23  2021-08-29            NaN   \n",
       "\n",
       "     B.1.1.7_proportion  B.1.351_count  B.1.351_proportion  B.1.617.1_count  \\\n",
       "454                 1.8            NaN                 0.0              NaN   \n",
       "455                 1.1            NaN                 0.0              NaN   \n",
       "456                 0.4            NaN                 0.0              NaN   \n",
       "457                 0.4            NaN                 0.0              NaN   \n",
       "458                 0.2            NaN                 0.0              NaN   \n",
       "\n",
       "     B.1.617.1_proportion  B.1.617.2_count  B.1.617.2_proportion  P.1_count  \\\n",
       "454                   NaN              NaN                  97.4        NaN   \n",
       "455                   NaN              NaN                  98.6        NaN   \n",
       "456                   NaN              NaN                  99.1        NaN   \n",
       "457                   NaN              NaN                  99.4        NaN   \n",
       "458                   NaN              NaN                  99.7        NaN   \n",
       "\n",
       "     P.1_proportion  \n",
       "454             0.1  \n",
       "455             0.1  \n",
       "456             0.1  \n",
       "457             0.0  \n",
       "458             0.0  "
      ]
     },
     "execution_count": 11,
     "metadata": {},
     "output_type": "execute_result"
    }
   ],
   "source": [
    "df_all.tail()"
   ]
  },
  {
   "cell_type": "markdown",
   "id": "consistent-madonna",
   "metadata": {},
   "source": [
    "# Export"
   ]
  },
  {
   "cell_type": "code",
   "execution_count": 12,
   "id": "studied-image",
   "metadata": {},
   "outputs": [],
   "source": [
    "df_all.to_csv('../data/sequencing_germany.csv'.format(df_all.seq_available.max()), index=False)"
   ]
  },
  {
   "cell_type": "markdown",
   "id": "rational-camera",
   "metadata": {},
   "source": [
    "# Plot"
   ]
  },
  {
   "cell_type": "code",
   "execution_count": 13,
   "id": "demanding-inspection",
   "metadata": {},
   "outputs": [
    {
     "data": {
      "image/png": "[encoded data removed]",
      "text/plain": [
       "<Figure size 864x432 with 1 Axes>"
      ]
     },
     "metadata": {
      "needs_background": "light"
     },
     "output_type": "display_data"
    }
   ],
   "source": [
    "df_all.set_index('week').groupby(['seq_available'])['B.1.617.2_proportion'].plot(figsize=[12, 6]);"
   ]
  },
  {
   "cell_type": "code",
   "execution_count": null,
   "id": "future-decline",
   "metadata": {},
   "outputs": [],
   "source": []
  }
 ],
 "metadata": {
  "kernelspec": {
   "display_name": "Python 3",
   "language": "python",
   "name": "python3"
  },
  "language_info": {
   "codemirror_mode": {
    "name": "ipython",
    "version": 3
   },
   "file_extension": ".py",
   "mimetype": "text/x-python",
   "name": "python",
   "nbconvert_exporter": "python",
   "pygments_lexer": "ipython3",
   "version": "3.8.8"
  }
 },
 "nbformat": 4,
 "nbformat_minor": 5
}
